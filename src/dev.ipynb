{
 "cells": [
  {
   "cell_type": "code",
   "execution_count": 1,
   "metadata": {},
   "outputs": [
    {
     "data": {
      "text/plain": [
       "'1.22.4'"
      ]
     },
     "execution_count": 1,
     "metadata": {},
     "output_type": "execute_result"
    }
   ],
   "source": [
    "import numpy as np\n",
    "np.__version__"
   ]
  },
  {
   "cell_type": "code",
   "execution_count": 2,
   "metadata": {},
   "outputs": [
    {
     "data": {
      "text/plain": [
       "True"
      ]
     },
     "execution_count": 2,
     "metadata": {},
     "output_type": "execute_result"
    }
   ],
   "source": [
    "import torch\n",
    "torch.cuda.is_available()"
   ]
  },
  {
   "cell_type": "code",
   "execution_count": null,
   "metadata": {},
   "outputs": [],
   "source": [
    "from copy import deepcopy"
   ]
  },
  {
   "cell_type": "code",
   "execution_count": 3,
   "metadata": {},
   "outputs": [],
   "source": [
    "def minPair(a, b):\n",
    "    if(a[0] > b[0]):\n",
    "        return (a, b)\n",
    "    elif(a[0] < b[0]):\n",
    "        return (b, a)\n",
    "    elif(a[1] > b[1]):\n",
    "        return (a, b)\n",
    "    else:\n",
    "        return (b, a)\n",
    "\n",
    "class Board:\n",
    "    def __init__(self, rows:int, columns:int):\n",
    "        self.connections = set()\n",
    "        self.history = []\n",
    "        self.playerX:int = rows//2\n",
    "        self.playerY:int = columns//2\n",
    "        self.visited = set((self.playerX, self.playerY))\n",
    "        self.width:int = columns\n",
    "        self.height:int = rows\n",
    "\n",
    "    def move(self, direction):\n",
    "        changeX, changeY = direction\n",
    "        self.playerX += changeX\n",
    "        self.playerY += changeY\n",
    "        self.connections.add(minPair((self.playerX, self.playerY), (self.playerX - changeX, self.playerY - changeY)))\n",
    "        if((self.playerX, self.playerY) in self.visited):\n",
    "            return True\n",
    "        else:\n",
    "            self.visited.add((self.playerX, self.playerY))\n",
    "            return False\n",
    "\n",
    "class PaperSoccer:\n",
    "    def __init__(self):\n",
    "        self.rows = 13\n",
    "        self.cols = 9\n",
    "        self.action_size = 8\n",
    "\n",
    "    def get_initial_state(self):\n",
    "        return Board(self.rows, self.cols)\n",
    "    \n",
    "    def get_next_state(self, state:Board, action, player):\n",
    "        moves = [(0,1), (1,0), (0,-1), (-1,0), (1,1), (1,-1), (-1,1), (-1,-1)]\n",
    "        state = deepcopy(state)\n",
    "        state.history.append(action)\n",
    "        repeat_player = state.move(moves[action])\n",
    "        if(repeat_player):\n",
    "            return state, player\n",
    "        else:\n",
    "            return state, self.get_opponent(player)\n",
    "\n",
    "    def get_valid_moves(self, state:Board):\n",
    "        moves = [(0,1), (1,0), (0,-1), (-1,0), (1,1), (1,-1), (-1,1), (-1,-1)]\n",
    "        valid_moves = [False]*self.action_size\n",
    "        for i, (changeX, changeY) in enumerate(moves):\n",
    "            if(state.playerX + changeX < 0 or state.playerX + changeX >= state.width):\n",
    "                continue\n",
    "            if(state.playerY + changeY < 0 or state.playerY + changeY >= state.height):\n",
    "                continue\n",
    "            if(minPair((state.playerX, state.playerY), (state.playerX + changeX, state.playerY + changeY)) in state.connections):\n",
    "                continue\n",
    "            valid_moves[i] = True\n",
    "        return valid_moves\n",
    "    \n",
    "    def get_value_and_terminated(self, state, action):\n",
    "        if action == None:\n",
    "            return 0, False\n",
    "        state, player = self.get_next_state(state, action, 0)\n",
    "        valid_moves = self.get_valid_moves(state)\n",
    "        if(valid_moves.count(True) == 0):\n",
    "            if player == 0:\n",
    "                return 1, True\n",
    "            else:\n",
    "                return -1, True\n",
    "        else:\n",
    "            if(state.playerY == 0):\n",
    "                return 1, True\n",
    "            elif(state.playerY == state.height-1):\n",
    "                return -1, True\n",
    "        return 0, False\n",
    "    \n",
    "    def get_opponent(self, player):\n",
    "        return 1-player\n",
    "    \n",
    "    def get_opponent_value(self, value):\n",
    "        return -value\n",
    "    \n",
    "    def change_perspective(self, state, player):\n",
    "        return \n",
    "    \n",
    "    def printHistory(self, state):\n",
    "        for x in state.history:\n",
    "            print(x, end=\"\")\n",
    "        print()\n",
    "        "
   ]
  },
  {
   "cell_type": "code",
   "execution_count": 12,
   "metadata": {},
   "outputs": [],
   "source": [
    "game = PaperSoccer()"
   ]
  },
  {
   "cell_type": "code",
   "execution_count": 13,
   "metadata": {},
   "outputs": [
    {
     "data": {
      "text/plain": [
       "[True, True, True, True, True, True, True, True]"
      ]
     },
     "execution_count": 13,
     "metadata": {},
     "output_type": "execute_result"
    }
   ],
   "source": [
    "state = game.get_initial_state()\n",
    "moves = game.get_valid_moves(state)\n",
    "moves"
   ]
  },
  {
   "cell_type": "code",
   "execution_count": 22,
   "metadata": {},
   "outputs": [],
   "source": [
    "state, player = game.get_next_state(state, 0, 1)"
   ]
  },
  {
   "cell_type": "code",
   "execution_count": 23,
   "metadata": {},
   "outputs": [
    {
     "name": "stdout",
     "output_type": "stream",
     "text": [
      "1100000\n"
     ]
    }
   ],
   "source": [
    "game.printHistory(state)"
   ]
  },
  {
   "cell_type": "code",
   "execution_count": 25,
   "metadata": {},
   "outputs": [
    {
     "data": {
      "text/plain": [
       "[True, False, False, True, False, False, True, True]"
      ]
     },
     "execution_count": 25,
     "metadata": {},
     "output_type": "execute_result"
    }
   ],
   "source": [
    "moves = game.get_valid_moves(state)\n",
    "moves"
   ]
  },
  {
   "cell_type": "code",
   "execution_count": 9,
   "metadata": {},
   "outputs": [
    {
     "data": {
      "text/plain": [
       "[True, True, False, True, True, True, True, True]"
      ]
     },
     "execution_count": 9,
     "metadata": {},
     "output_type": "execute_result"
    }
   ],
   "source": [
    "moves"
   ]
  },
  {
   "cell_type": "code",
   "execution_count": 10,
   "metadata": {},
   "outputs": [],
   "source": [
    "state, player = game.get_next_state(state, 1, 0)"
   ]
  },
  {
   "cell_type": "code",
   "execution_count": 11,
   "metadata": {},
   "outputs": [
    {
     "name": "stdout",
     "output_type": "stream",
     "text": [
      "01\n"
     ]
    }
   ],
   "source": [
    "game.printHistory(state)"
   ]
  },
  {
   "cell_type": "code",
   "execution_count": null,
   "metadata": {},
   "outputs": [],
   "source": []
  }
 ],
 "metadata": {
  "kernelspec": {
   "display_name": "Python 3",
   "language": "python",
   "name": "python3"
  },
  "language_info": {
   "codemirror_mode": {
    "name": "ipython",
    "version": 3
   },
   "file_extension": ".py",
   "mimetype": "text/x-python",
   "name": "python",
   "nbconvert_exporter": "python",
   "pygments_lexer": "ipython3",
   "version": "3.8.10"
  },
  "orig_nbformat": 4
 },
 "nbformat": 4,
 "nbformat_minor": 2
}
