{
 "cells": [
  {
   "cell_type": "code",
   "execution_count": 1,
   "metadata": {},
   "outputs": [
    {
     "data": {
      "text/plain": [
       "'1.22.4'"
      ]
     },
     "execution_count": 1,
     "metadata": {},
     "output_type": "execute_result"
    }
   ],
   "source": [
    "import numpy as np\n",
    "np.__version__"
   ]
  },
  {
   "cell_type": "code",
   "execution_count": 2,
   "metadata": {},
   "outputs": [
    {
     "data": {
      "text/plain": [
       "True"
      ]
     },
     "execution_count": 2,
     "metadata": {},
     "output_type": "execute_result"
    }
   ],
   "source": [
    "import torch\n",
    "torch.cuda.is_available()"
   ]
  },
  {
   "cell_type": "code",
   "execution_count": 8,
   "metadata": {},
   "outputs": [],
   "source": [
    "def minPair(a, b):\n",
    "    if(a[0] > b[0]):\n",
    "        return (a, b)\n",
    "    elif(a[0] < b[0]):\n",
    "        return (b, a)\n",
    "    elif(a[1] > b[1]):\n",
    "        return (a, b)\n",
    "    else:\n",
    "        return (b, a)\n",
    "\n",
    "class Board:\n",
    "    def __init__(self, rows:int, columns:int):\n",
    "        self.connections = set()\n",
    "        self.history = []\n",
    "        self.playerX:int = rows//2\n",
    "        self.playerY:int = columns//2\n",
    "        self.visited = set((self.playerX, self.playerY))\n",
    "        self.width:int = columns\n",
    "        self.height:int = rows\n",
    "\n",
    "    def move(self, direction):\n",
    "        changeX, changeY = direction\n",
    "        self.playerX += changeX\n",
    "        self.playerY += changeY\n",
    "        self.connections.add(minPair((self.playerX, self.playerY), (self.playerX - changeX, self.playerY - changeY)))\n",
    "        if((self.playerX, self.playerY) in self.visited):\n",
    "            return True\n",
    "        else:\n",
    "            self.visited.add((self.playerX, self.playerY))\n",
    "            return False\n",
    "\n",
    "class PaperSoccer:\n",
    "    def __init__(self):\n",
    "        self.rows = 13\n",
    "        self.cols = 9\n",
    "        self.action_size = 8\n",
    "\n",
    "    def get_initial_state(self):\n",
    "        return Board(self.rows, self.cols)\n",
    "    \n",
    "    def get_next_state(self, state:Board, action, player):\n",
    "        moves = [(0,1), (1,0), (0,-1), (-1,0), (1,1), (1,-1), (-1,1), (-1,-1)]\n",
    "        state.history.append(action)\n",
    "        repeat_player = state.move(moves[action])\n",
    "        if(repeat_player):\n",
    "            return state, player\n",
    "        else:\n",
    "            return state, self.get_opponent(player)\n",
    "\n",
    "    def get_valid_moves(self, state:Board):\n",
    "        moves = [(0,1), (1,0), (0,-1), (-1,0), (1,1), (1,-1), (-1,1), (-1,-1)]\n",
    "        valid_moves = [False]*self.action_size\n",
    "        for i, (changeX, changeY) in enumerate(moves):\n",
    "            if(state.playerX + changeX < 0 or state.playerX + changeX >= state.width):\n",
    "                continue\n",
    "            if(state.playerY + changeY < 0 or state.playerY + changeY >= state.height):\n",
    "                continue\n",
    "            if(minPair((state.playerX, state.playerY), (state.playerX + changeX, state.playerY + changeY)) in state.connections):\n",
    "                continue\n",
    "            valid_moves[i] = True\n",
    "        return valid_moves\n",
    "        \n",
    "    def check_win(self, state, action):\n",
    "        #TODO\n",
    "        return\n",
    "    \n",
    "    def get_value_and_terminated(self, state, action):\n",
    "        #TODO\n",
    "        return\n",
    "    \n",
    "    def get_opponent(self, player):\n",
    "        return -player\n",
    "        "
   ]
  },
  {
   "cell_type": "code",
   "execution_count": 9,
   "metadata": {},
   "outputs": [],
   "source": [
    "game = PaperSoccer()"
   ]
  },
  {
   "cell_type": "code",
   "execution_count": 17,
   "metadata": {},
   "outputs": [
    {
     "data": {
      "text/plain": [
       "[True, True, True, True, True, True, True, True]"
      ]
     },
     "execution_count": 17,
     "metadata": {},
     "output_type": "execute_result"
    }
   ],
   "source": [
    "state = game.get_initial_state()\n",
    "moves = game.get_valid_moves(state)\n",
    "moves"
   ]
  },
  {
   "cell_type": "code",
   "execution_count": 18,
   "metadata": {},
   "outputs": [],
   "source": [
    "state, player = game.get_next_state(state, 0, 1)"
   ]
  },
  {
   "cell_type": "code",
   "execution_count": 19,
   "metadata": {},
   "outputs": [
    {
     "data": {
      "text/plain": [
       "[0]"
      ]
     },
     "execution_count": 19,
     "metadata": {},
     "output_type": "execute_result"
    }
   ],
   "source": [
    "state.history"
   ]
  },
  {
   "cell_type": "code",
   "execution_count": 20,
   "metadata": {},
   "outputs": [],
   "source": [
    "moves = game.get_valid_moves(state)"
   ]
  },
  {
   "cell_type": "code",
   "execution_count": 21,
   "metadata": {},
   "outputs": [
    {
     "data": {
      "text/plain": [
       "[True, True, False, True, True, True, True, True]"
      ]
     },
     "execution_count": 21,
     "metadata": {},
     "output_type": "execute_result"
    }
   ],
   "source": [
    "moves"
   ]
  },
  {
   "cell_type": "code",
   "execution_count": null,
   "metadata": {},
   "outputs": [],
   "source": []
  }
 ],
 "metadata": {
  "kernelspec": {
   "display_name": "Python 3",
   "language": "python",
   "name": "python3"
  },
  "language_info": {
   "codemirror_mode": {
    "name": "ipython",
    "version": 3
   },
   "file_extension": ".py",
   "mimetype": "text/x-python",
   "name": "python",
   "nbconvert_exporter": "python",
   "pygments_lexer": "ipython3",
   "version": "3.8.10"
  },
  "orig_nbformat": 4
 },
 "nbformat": 4,
 "nbformat_minor": 2
}
